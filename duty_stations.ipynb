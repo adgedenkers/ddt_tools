{
 "cells": [
  {
   "cell_type": "code",
   "execution_count": null,
   "metadata": {},
   "outputs": [],
   "source": [
    "from flask import Flask, jsonify, request\n",
    "from flask_caching import Cache\n",
    "import requests\n",
    "import time\n",
    "\n",
    "app = Flask(__name__)\n",
    "cache = Cache(app, config={'CACHE_TYPE': 'SimpleCache'})\n",
    "CACHE_TIMEOUT = 300  # Cache data for 5 minutes\n",
    "\n",
    "STATIONS_URL = 'https://vaww.va.gov/HRIS/apps/hrissync/STATIONS.TXT'\n",
    "\n",
    "@app.route('/station', methods=['GET'])\n",
    "@cache.cached(timeout=CACHE_TIMEOUT, query_string=True)\n",
    "\n",
    "def get_station():\n",
    "    station_code = request.args.get('code', '')\n",
    "    stations_data = fetch_and_parse_data()\n",
    "    station = next((s for s in stations_data if station_code == s['station_code']), None)\n",
    "    if station:\n",
    "        return jsonify(station)\n",
    "    return jsonify({'error': 'Station not found'}), 404\n",
    "\n",
    "def fetch_and_parse_data():\n",
    "    # Check if the data is already cached\n",
    "    cached_data = cache.get('stations_data')\n",
    "    if cached_data:\n",
    "        return cached_data\n",
    "\n",
    "    # If not cached, fetch new data\n",
    "    response = requests.get(STATIONS_URL)\n",
    "    lines = response.text.splitlines()\n",
    "    stations_data = [parse_line(line) for line in lines[7:]]\n",
    "    cache.set('stations_data', stations_data, timeout=CACHE_TIMEOUT)\n",
    "    return stations_data\n",
    "\n",
    "def parse_line(line):\n",
    "    return {\n",
    "        'station_number': line[0:8].strip(),\n",
    "        'station_code': line[8:16].strip(),\n",
    "        # ... other fields ...\n",
    "    }\n",
    "\n",
    "if __name__ == '__main__':\n",
    "    app.run(debug=True)"
   ]
  }
 ],
 "metadata": {
  "language_info": {
   "name": "python"
  }
 },
 "nbformat": 4,
 "nbformat_minor": 2
}
